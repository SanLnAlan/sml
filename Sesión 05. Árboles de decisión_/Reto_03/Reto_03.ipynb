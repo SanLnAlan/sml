{
  "nbformat": 4,
  "nbformat_minor": 0,
  "metadata": {
    "colab": {
      "name": "Reto_03.ipynb",
      "provenance": []
    },
    "kernelspec": {
      "name": "python3",
      "display_name": "Python 3"
    },
    "language_info": {
      "name": "python"
    }
  },
  "cells": [
    {
      "cell_type": "markdown",
      "metadata": {
        "id": "Lhe2LMzgSmsV"
      },
      "source": [
        "# Reto 03: Random Forest\n",
        "Retome el array de numpy que utilizo para el reto anterior, junto con la variable que almacena el nombre de los sospechosos y desarrolle los siguiente puntos:"
      ]
    },
    {
      "cell_type": "markdown",
      "metadata": {
        "id": "cDI0Sm1mS3oK"
      },
      "source": [
        "# Paso 1\n",
        "Genere un arbol de decision simple para hacer la proyección de quien será el culpable con base en la información que usted conoce. Repita el proceso para 3 arboles distintos de decisión distintos"
      ]
    },
    {
      "cell_type": "markdown",
      "metadata": {
        "id": "AW6cKlYjTJp-"
      },
      "source": [
        "# Paso 2\n",
        "Seguramente sus arboles habrán fallado. Ahora implemente una solución basada en Random Forest para poder generar una mejor estimación. Realice las iteraciones pertinententes hasta que llegue al resultado esperado, el cual ya conoce debido a la solución del reto 02"
      ]
    },
    {
      "cell_type": "markdown",
      "metadata": {
        "id": "thvGVqpTTW6-"
      },
      "source": [
        "# Paso 3\n",
        "Ahora con la ayuda de pyplot, grafique sus arboles de decisión. Muestre aquel que acierta."
      ]
    }
  ]
}