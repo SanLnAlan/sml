{
 "cells": [
  {
   "cell_type": "markdown",
   "metadata": {},
   "source": [
    "# Reto 02\n",
    "A continuación vas a desarrollar por tu propia cuenta una clusterización pero ahora con un dataset con el doble de dimensiones. Contarás con el apoyo de los TA y el Experto para que puedas desarrollar el reto que a continuación vas a resolver. Lee a detalle cada una de las instrucciones contenidas en cada paso. Éxito."
   ]
  },
  {
   "cell_type": "markdown",
   "metadata": {},
   "source": [
    "# Paso 1: Genera un Análisis Exploratorio básico de las variables con las que cuentas, tratandos de responder las siguientes preguntas\n",
    "- Cuantas variables tienes y de que tipo son\n",
    "- Como se distirbuyen tus variables\n",
    "- Cuantas observaciones tienes"
   ]
  },
  {
   "cell_type": "code",
   "execution_count": 1,
   "metadata": {},
   "outputs": [],
   "source": [
    "import pandas as pd\n",
    "import numpy as np\n",
    "import seaborn as sns\n",
    "import matplotlib.pyplot as plt\n",
    "from sklearn.preprocessing import StandardScaler\n"
   ]
  },
  {
   "cell_type": "code",
   "execution_count": 5,
   "metadata": {},
   "outputs": [
    {
     "name": "stdout",
     "output_type": "stream",
     "text": [
      "Alcohol            float64\n",
      "Malic_Acid         float64\n",
      "Ash                float64\n",
      "Ash_Alcanity       float64\n",
      "Magnesium            int64\n",
      "Color_Intensity    float64\n",
      "dtype: object\n",
      "99\n"
     ]
    }
   ],
   "source": [
    "df = pd.read_csv('wine-challenge.csv')\n",
    "print(df.dtypes)\n",
    "print(df.shape[0])"
   ]
  },
  {
   "cell_type": "markdown",
   "metadata": {},
   "source": [
    "# Paso 2: Estandarice y genere una nueva escala\n",
    "¿Recuerda lo comentado respecto a que manejar distintas escalas puede estropear nuestra clusterización? Aunque tengamos menos variables, sucede lo mismo. Genere una nueva escala y estandarice los datos."
   ]
  },
  {
   "cell_type": "code",
   "execution_count": null,
   "metadata": {},
   "outputs": [],
   "source": [
    "std_scaler = StandardScaler()\n",
    "data_cluster = df.copy()\n",
    "data_cluster[data_cluster.columns] = std_scaler.fit_transform(data_cluster)"
   ]
  },
  {
   "cell_type": "markdown",
   "metadata": {},
   "source": [
    "# Paso 3: Ahora reduzca de 6 a solo 2 dimensiones\n",
    "importe PCA de sklearn.decomposition y genere 2 nuevas dimensiones que \"resuman\" a las 6 originales"
   ]
  },
  {
   "cell_type": "code",
   "execution_count": null,
   "metadata": {},
   "outputs": [],
   "source": []
  },
  {
   "cell_type": "markdown",
   "metadata": {},
   "source": [
    "# Paso 4: Grafique las dos dimensiones que acaba de generar"
   ]
  },
  {
   "cell_type": "code",
   "execution_count": null,
   "metadata": {},
   "outputs": [],
   "source": []
  },
  {
   "cell_type": "markdown",
   "metadata": {},
   "source": [
    "# Paso 5: Decida cuantos clusters usted necesita\n",
    "Ahora, usted deberá emplear uno de los métodos que el Experto le ha enseñado:\n",
    "- Método del Codo\n",
    "- Método de la Silueta\n",
    "- Método de la inercia\n",
    "\n",
    "Con base en él, escriba el código pertinente y argumente su decisión de número de clusters\n",
    "\n",
    "- CONSEJO: Le será confuso elegir con un solo método. Le recomiendo ampliamente usar dos."
   ]
  },
  {
   "cell_type": "code",
   "execution_count": null,
   "metadata": {},
   "outputs": [],
   "source": []
  },
  {
   "cell_type": "markdown",
   "metadata": {},
   "source": [
    "# Paso 6: Gráfique el método que empleó\n",
    "Junto con Matplotlib y Seaborn (si es el caso), grafique el método de decisión de Clusters que usted usó en el paso anterior"
   ]
  },
  {
   "cell_type": "code",
   "execution_count": null,
   "metadata": {},
   "outputs": [],
   "source": []
  },
  {
   "cell_type": "markdown",
   "metadata": {},
   "source": [
    "# Paso 7: Defina su clusterización\n",
    "Ahora, usted deberá emplear el número de clusters que decidió en el paso anterior con base en el ejemplo desarrollado por el experto. \n",
    "- Recuerde definir una nueva variable donde almacenará KMeans()\n",
    "- Defina una segunda variable donde almacene sus centrodes, derivado de la primera (.cluster_centers_)"
   ]
  },
  {
   "cell_type": "code",
   "execution_count": null,
   "metadata": {},
   "outputs": [],
   "source": []
  },
  {
   "cell_type": "markdown",
   "metadata": {},
   "source": [
    "# Paso 8: Genere un breve EDA de sus variables clusterizadas\n",
    "Puede generar histogramas o distintas visualizaciones de sus variabels clusterizadas. Paso libre"
   ]
  },
  {
   "cell_type": "code",
   "execution_count": null,
   "metadata": {},
   "outputs": [],
   "source": []
  },
  {
   "cell_type": "markdown",
   "metadata": {},
   "source": [
    "# Paso 9: Visualice los clusters en el plano cartesiano\n",
    "Genere una visualización de los clusters que usted decidió emplear dada la reducción de dimensiones y los clusters que generó"
   ]
  },
  {
   "cell_type": "code",
   "execution_count": null,
   "metadata": {},
   "outputs": [],
   "source": []
  }
 ],
 "metadata": {
  "interpreter": {
   "hash": "916dbcbb3f70747c44a77c7bcd40155683ae19c65e1c03b4aa3499c5328201f1"
  },
  "kernelspec": {
   "display_name": "Python 3.8.10 64-bit",
   "name": "python3"
  },
  "language_info": {
   "codemirror_mode": {
    "name": "ipython",
    "version": 3
   },
   "file_extension": ".py",
   "mimetype": "text/x-python",
   "name": "python",
   "nbconvert_exporter": "python",
   "pygments_lexer": "ipython3",
   "version": "3.8.10"
  }
 },
 "nbformat": 4,
 "nbformat_minor": 4
}
